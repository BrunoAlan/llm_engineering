{
 "cells": [
  {
   "cell_type": "markdown",
   "id": "fe12c203-e6a6-452c-a655-afb8a03a4ff5",
   "metadata": {},
   "source": [
    "# End of week 1 exercise\n",
    "\n",
    "To demonstrate your familiarity with OpenAI API, and also Ollama, build a tool that takes a technical question,  \n",
    "and responds with an explanation. This is a tool that you will be able to use yourself during the course!"
   ]
  },
  {
   "cell_type": "code",
   "execution_count": 13,
   "id": "c1070317-3ed9-4659-abe3-828943230e03",
   "metadata": {},
   "outputs": [],
   "source": [
    "# imports\n",
    "from dotenv import load_dotenv\n",
    "from openai import OpenAI\n",
    "import ollama\n",
    "from IPython.display import Markdown, display, update_display\n"
   ]
  },
  {
   "cell_type": "code",
   "execution_count": 2,
   "id": "4a456906-915a-4bfd-bb9d-57e505c5093f",
   "metadata": {},
   "outputs": [],
   "source": [
    "# constants\n",
    "\n",
    "MODEL_GPT = 'gpt-4o-mini'\n",
    "MODEL_LLAMA = 'llama3.2'"
   ]
  },
  {
   "cell_type": "code",
   "execution_count": 3,
   "id": "a8d7923c-5f28-4c30-8556-342d7c8497c1",
   "metadata": {},
   "outputs": [],
   "source": [
    "# set up environment\n",
    "load_dotenv()\n",
    "onpen_ai = OpenAI()\n"
   ]
  },
  {
   "cell_type": "code",
   "execution_count": 6,
   "id": "3f0d0137-52b0-47a8-81a8-11a90a010798",
   "metadata": {},
   "outputs": [],
   "source": [
    "# here is the question; type over this to ask something new\n",
    "\n",
    "question = \"\"\"\n",
    "Please explain what this code does and why:\n",
    "yield from {book.get(\"author\") for book in books if book.get(\"author\")}\n",
    "\"\"\""
   ]
  },
  {
   "cell_type": "code",
   "execution_count": 8,
   "id": "74a40a1b-0547-4cc3-be25-6ea8ce2a680c",
   "metadata": {},
   "outputs": [],
   "source": [
    "# Propts\n",
    "system_prompt = \"You are a helpful technical tutor who answers questions about python code, software engineering, data science and LLMs\"\n",
    "user_prompt = \"Please give a detailed explanation to the following question: \" + question"
   ]
  },
  {
   "cell_type": "code",
   "execution_count": 10,
   "id": "dbae0725-356a-46c9-a959-390d0afeeeed",
   "metadata": {},
   "outputs": [],
   "source": [
    "# Messages\n",
    "messages = [\n",
    "    {\"role\":'system',\"content\":system_prompt},\n",
    "    {\"role\":'user',\"content\":user_prompt}\n",
    "]\n"
   ]
  },
  {
   "cell_type": "code",
   "execution_count": 18,
   "id": "60ce7000-a4a5-4cce-a261-e75ef45063b4",
   "metadata": {},
   "outputs": [
    {
     "name": "stdout",
     "output_type": "stream",
     "text": [
      "Certainly! Let's break down the code `yield from {book.get(\"author\") for book in books if book.get(\"author\")}` step by step to understand what it does and why it’s structured this way.\n",
      "\n",
      "### Breakdown of the Code\n",
      "\n",
      "1. **`{...}` - Set Comprehension**:\n",
      "   - The code inside the curly braces `{}` is a **set comprehension**. This is a concise way to create a set in Python. A set is an unordered collection of unique elements.\n",
      "   - The expression `book.get(\"author\") for book in books if book.get(\"author\")` iterates over each `book` in the collection `books`.\n",
      "\n",
      "2. **`book.get(\"author\")`**:\n",
      "   - For each `book` in `books`, `book.get(\"author\")` attempts to retrieve the value associated with the key `\"author\"`.\n",
      "   - This method returns `None` if the key `\"author\"` does not exist in the `book` dictionary. This is important because the `if book.get(\"author\")` condition will filter out books that either don't have an author specified or have a value that evaluates to `False` (like an empty string).\n",
      "\n",
      "3. **`if book.get(\"author\")`**:\n",
      "   - This condition ensures that only books with a valid author (a non-None and non-empty value) are considered for the set comprehension.\n",
      "   - This results in a set of unique authors from the `books` collection, without duplicates, since sets inherently do not allow duplicate values.\n",
      "\n",
      "4. **`yield from ...`**:\n",
      "   - The keyword `yield` is used in a generator function to produce a series of values over time instead of returning them all at once. \n",
      "   - `yield from` is a special form of `yield` that simplifies the process of yielding all values from a generator or an iterable. In this case, it’s being used to yield each element from the set created in the previous step.\n",
      "   - By using `yield from { ... }`, the function will yield each unique author one at a time as they are requested, which can be useful for memory efficiency when dealing with large datasets.\n",
      "\n",
      "### Summary of What the Code Does\n",
      "\n",
      "In summary, this code:\n",
      "\n",
      "- Creates a set of unique authors from a list of book dictionaries named `books`.\n",
      "- It filters out any books that do not have an author or have an empty author field.\n",
      "- It uses `yield from` to produce each author from this set one-by-one, allowing for iteration over the authors without creating a large list in memory.\n",
      "\n",
      "### Why This Structure?\n",
      "\n",
      "1. **Efficiency**: Using a set comprehension ensures that each author is unique and handles the presence of potentially duplicate author names efficiently.\n",
      "   \n",
      "2. **Lazy Evaluation**: By using `yield from`, the authors are yielded one at a time rather than all at once, which is particularly memory efficient for large datasets.\n",
      "\n",
      "3. **Readability**: Set comprehensions combined with `yield from` provide a clear and concise syntax that reflects the intended logic without requiring additional loops or intermediate lists.\n",
      "\n",
      "This pattern is often useful in cases such as generating reports, processing data streams, or working with pipelines where you only want to process items one at a time rather than loading everything into memory at once.\n"
     ]
    }
   ],
   "source": [
    "# Get gpt-4o-mini to answer, with streaming\n",
    "\n",
    "streaming = onpen_ai.chat.completions.create(model=MODEL_GPT,messages=messages)\n",
    "\n",
    "print(streaming.choices[0].message.content)\n",
    "\n",
    "# response = \"\"\n",
    "# display_handle = display(Markdown(\"\"), display_id=True)\n",
    "# for chunk in streaming:\n",
    "#     response += chunk.choices[0].delta.content or ''\n",
    "#     response = response.replace(\"```\",\"\").replace(\"markdown\", \"\")\n",
    "#     update_display(Markdown(response), display_id=display_handle.display_id)\n"
   ]
  },
  {
   "cell_type": "code",
   "execution_count": null,
   "id": "b09b45ce-35e1-4bee-b336-142feefafdf6",
   "metadata": {},
   "outputs": [],
   "source": []
  },
  {
   "cell_type": "code",
   "execution_count": null,
   "id": "8f7c8ea8-4082-4ad0-8751-3301adcf6538",
   "metadata": {},
   "outputs": [],
   "source": [
    "# Get Llama 3.2 to answer"
   ]
  }
 ],
 "metadata": {
  "kernelspec": {
   "display_name": "Python 3 (ipykernel)",
   "language": "python",
   "name": "python3"
  },
  "language_info": {
   "codemirror_mode": {
    "name": "ipython",
    "version": 3
   },
   "file_extension": ".py",
   "mimetype": "text/x-python",
   "name": "python",
   "nbconvert_exporter": "python",
   "pygments_lexer": "ipython3",
   "version": "3.11.12"
  }
 },
 "nbformat": 4,
 "nbformat_minor": 5
}
